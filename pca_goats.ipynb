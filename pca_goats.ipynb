{
  "cells": [
    {
      "cell_type": "markdown",
      "metadata": {
        "id": "view-in-github",
        "colab_type": "text"
      },
      "source": [
        "<a href=\"https://colab.research.google.com/github/smTeena/HPC/blob/main/pca_goats.ipynb\" target=\"_parent\"><img src=\"https://colab.research.google.com/assets/colab-badge.svg\" alt=\"Open In Colab\"/></a>"
      ]
    },
    {
      "metadata": {
        "id": "f949c2cf2466943c"
      },
      "cell_type": "markdown",
      "source": [
        "## Computer lab: Principal Component Analysis (PCA) on goat SNP data\n",
        "\n",
        "This exercise is build around a dataset from Colli et al. Genet Sel Evol (2018) 50:58 https://doi.org/10.1186/s12711-018-0422-x and lecture notes from Genomics Boot Camp, an online course by Gábor Mészáros.\n",
        "\n",
        "### Population Structure within Goats\n",
        "\n",
        "Today we will do a principal component analysis (PCA) based on quality-controlled genotype data. And as you probably guessed from the title we will look a goat data today. But before jumping into the exciting world of goats. Let's look at the PCA in general, but try to keep it on a high level of abstraction (read; let's try to avoid the math for now).\n",
        "\n",
        "### The Principal Component Analysis\n",
        "\n",
        "Principal Component Analysis (PCA) is a powerful statistical technique employed in population genetics to unravel genetic variation within and among populations. By reducing the complexity of genetic data into a few orthogonal axes, named Principal Components. These axes are then ordered by the amounts of variation explained by that linear combination of variables. The math behind it are, I geuss a bit beyond the scope of this course, but it will be covered in Statistical and Machine Learning in Bioinformatics in the spring.\n",
        "\n",
        "### The Goats\n",
        "\n",
        "The PCA itself is a way to visualize complex systems in a simple way. In our case, we want to show relationships between the worldwide goat populations genotyped in the ADAPTmap project. After the quality control, we have 4532 animals left. If we compute genetic distances (with PLINK), we get a matrix of 4532 by 4532 animals, with more than 10 million pairwise combinations. So a \"rather\" long list to scroll through, let alone make sense of it. Fortunately, we can apply some clever statistical methods to simplify it for us. We will lose some precision and nuances about the relationships between breeds, but in exchange, we can see everything in one figure.\n",
        "\n",
        "We start by downloading the data from the GitHub repository. The data is stored in a zip file, which we will download and unzip."
      ],
      "id": "f949c2cf2466943c"
    },
    {
      "cell_type": "code",
      "id": "de86047c3e8af195",
      "metadata": {
        "ExecuteTime": {
          "end_time": "2024-10-27T11:07:32.583046Z",
          "start_time": "2024-10-27T11:07:18.773060Z"
        },
        "id": "de86047c3e8af195",
        "outputId": "2a7ec81c-cd3b-42dc-cb8c-b5e703ca48f3",
        "colab": {
          "base_uri": "https://localhost:8080/"
        }
      },
      "source": [
        "import os\n",
        "import zipfile\n",
        "\n",
        "import requests\n",
        "from tqdm import tqdm\n",
        "\n",
        "\n",
        "def download_file(url: str, dest: str):\n",
        "    \"\"\"\n",
        "    Download a file from a url and save it to a destination\n",
        "\n",
        "    :param url: URL to download from\n",
        "    :param dest: Destination to save the file to\n",
        "    \"\"\"\n",
        "    response = requests.get(url, stream=True)\n",
        "    total_size = int(response.headers.get('content-length', 0))\n",
        "    with open(dest, 'wb') as f:\n",
        "        for chunk in tqdm(response.iter_content(chunk_size=8192), total=total_size / 8192,\n",
        "                          unit='MB', unit_scale=8192 / (1024 * 1024), desc=\"Downloading\"):\n",
        "            f.write(chunk)\n",
        "\n",
        "\n",
        "def unzip(zip_file: str):\n",
        "    \"\"\"\n",
        "    Unzip a file to a destination\n",
        "\n",
        "    :param zip_file: Path to the zip file\n",
        "    \"\"\"\n",
        "    with zipfile.ZipFile(zip_file, 'r') as zip_ref:\n",
        "        zip_ref.extractall()\n",
        "\n",
        "\n",
        "url = (\"https://github.com/Bjarke-M/Evolutionary_Thinking_2024/blob/\"\n",
        "       \"fb17582a10b81c6b8ef9641222eb012a69c227fb/week44/Friday/data.zip?raw=true\")\n",
        "\n",
        "dest = os.getcwd() + \"/goats.zip\"\n",
        "download_file(url, dest)\n",
        "unzip(dest)"
      ],
      "outputs": [
        {
          "output_type": "stream",
          "name": "stderr",
          "text": [
            "Downloading: 43.7578125MB [00:00, 58.46MB/s]                                       \n"
          ]
        }
      ],
      "execution_count": 1
    },
    {
      "metadata": {
        "id": "eedeb3c97bc9d3df"
      },
      "cell_type": "markdown",
      "source": [
        "### PLINK\n",
        "\n",
        "To process the data, we will use a program called PLINK, which is a free, open-source whole genome association analysis toolset, designed to perform a range of basic, large-scale analyses in a computationally efficient manner. You can read more about it here:\\[https://zzz.bwh.harvard.edu/plink/\\]. More precisely, we will use the Python wrapper for PLINK, called pandas-plink. pandas-plink is a Python library for reading PLINK files into native Python data structures using pandas and dask. You can read more about it here: \\[https://pandas-plink.readthedocs.io/en/latest/].\n",
        "\n",
        "We obtain three files: bed, bim, and fam."
      ],
      "id": "eedeb3c97bc9d3df"
    },
    {
      "metadata": {
        "ExecuteTime": {
          "end_time": "2024-10-27T11:07:55.364165Z",
          "start_time": "2024-10-27T11:07:32.587747Z"
        },
        "id": "fdafc640d8366cc6",
        "outputId": "005119c3-449d-4879-80cb-67bd85d8185b",
        "colab": {
          "base_uri": "https://localhost:8080/"
        }
      },
      "cell_type": "code",
      "source": [
        "%pip install pandas-plink\n",
        "\n",
        "from pandas_plink import read_plink\n",
        "\n",
        "(bim, fam, bed) = read_plink(os.getcwd() + \"/data/snps\")"
      ],
      "id": "fdafc640d8366cc6",
      "outputs": [
        {
          "output_type": "stream",
          "name": "stdout",
          "text": [
            "Collecting pandas-plink\n",
            "  Downloading pandas_plink-2.3.1-cp310-cp310-manylinux_2_17_x86_64.manylinux_2_5_x86_64.manylinux1_x86_64.manylinux2014_x86_64.whl.metadata (6.3 kB)\n",
            "Requirement already satisfied: cffi<2.0,>=1.16 in /usr/local/lib/python3.10/dist-packages (from pandas-plink) (1.17.1)\n",
            "Requirement already satisfied: dask[dataframe] in /usr/local/lib/python3.10/dist-packages (from pandas-plink) (2024.10.0)\n",
            "Requirement already satisfied: deprecated<2.0,>=1.2 in /usr/local/lib/python3.10/dist-packages (from pandas-plink) (1.2.14)\n",
            "Requirement already satisfied: numpy<2.0,>=1.0 in /usr/local/lib/python3.10/dist-packages (from pandas-plink) (1.26.4)\n",
            "Requirement already satisfied: pandas<3.0,>=2.2 in /usr/local/lib/python3.10/dist-packages (from pandas-plink) (2.2.2)\n",
            "Collecting pandera[dask,mypy] (from pandas-plink)\n",
            "  Downloading pandera-0.20.4-py3-none-any.whl.metadata (15 kB)\n",
            "Requirement already satisfied: tqdm<5.0,>=4.66 in /usr/local/lib/python3.10/dist-packages (from pandas-plink) (4.66.6)\n",
            "Requirement already satisfied: xarray in /usr/local/lib/python3.10/dist-packages (from pandas-plink) (2024.10.0)\n",
            "Collecting zstandard<0.23,>=0.22 (from pandas-plink)\n",
            "  Downloading zstandard-0.22.0-cp310-cp310-manylinux_2_17_x86_64.manylinux2014_x86_64.whl.metadata (2.9 kB)\n",
            "Requirement already satisfied: pycparser in /usr/local/lib/python3.10/dist-packages (from cffi<2.0,>=1.16->pandas-plink) (2.22)\n",
            "Requirement already satisfied: wrapt<2,>=1.10 in /usr/local/lib/python3.10/dist-packages (from deprecated<2.0,>=1.2->pandas-plink) (1.16.0)\n",
            "Requirement already satisfied: python-dateutil>=2.8.2 in /usr/local/lib/python3.10/dist-packages (from pandas<3.0,>=2.2->pandas-plink) (2.8.2)\n",
            "Requirement already satisfied: pytz>=2020.1 in /usr/local/lib/python3.10/dist-packages (from pandas<3.0,>=2.2->pandas-plink) (2024.2)\n",
            "Requirement already satisfied: tzdata>=2022.7 in /usr/local/lib/python3.10/dist-packages (from pandas<3.0,>=2.2->pandas-plink) (2024.2)\n",
            "Requirement already satisfied: click>=8.1 in /usr/local/lib/python3.10/dist-packages (from dask[dataframe]->pandas-plink) (8.1.7)\n",
            "Requirement already satisfied: cloudpickle>=3.0.0 in /usr/local/lib/python3.10/dist-packages (from dask[dataframe]->pandas-plink) (3.1.0)\n",
            "Requirement already satisfied: fsspec>=2021.09.0 in /usr/local/lib/python3.10/dist-packages (from dask[dataframe]->pandas-plink) (2024.10.0)\n",
            "Requirement already satisfied: packaging>=20.0 in /usr/local/lib/python3.10/dist-packages (from dask[dataframe]->pandas-plink) (24.1)\n",
            "Requirement already satisfied: partd>=1.4.0 in /usr/local/lib/python3.10/dist-packages (from dask[dataframe]->pandas-plink) (1.4.2)\n",
            "Requirement already satisfied: pyyaml>=5.3.1 in /usr/local/lib/python3.10/dist-packages (from dask[dataframe]->pandas-plink) (6.0.2)\n",
            "Requirement already satisfied: toolz>=0.10.0 in /usr/local/lib/python3.10/dist-packages (from dask[dataframe]->pandas-plink) (0.12.1)\n",
            "Requirement already satisfied: importlib-metadata>=4.13.0 in /usr/local/lib/python3.10/dist-packages (from dask[dataframe]->pandas-plink) (8.5.0)\n",
            "Collecting dask-expr<1.2,>=1.1 (from dask[dataframe]->pandas-plink)\n",
            "  Downloading dask_expr-1.1.16-py3-none-any.whl.metadata (2.5 kB)\n",
            "Collecting multimethod<=1.10.0 (from pandera[dask,mypy]->pandas-plink)\n",
            "  Downloading multimethod-1.10-py3-none-any.whl.metadata (8.2 kB)\n",
            "Requirement already satisfied: pydantic in /usr/local/lib/python3.10/dist-packages (from pandera[dask,mypy]->pandas-plink) (2.9.2)\n",
            "Requirement already satisfied: typeguard in /usr/local/lib/python3.10/dist-packages (from pandera[dask,mypy]->pandas-plink) (4.4.0)\n",
            "Collecting typing-inspect>=0.6.0 (from pandera[dask,mypy]->pandas-plink)\n",
            "  Downloading typing_inspect-0.9.0-py3-none-any.whl.metadata (1.5 kB)\n",
            "Requirement already satisfied: pandas-stubs in /usr/local/lib/python3.10/dist-packages (from pandera[dask,mypy]->pandas-plink) (2.2.2.240909)\n",
            "Requirement already satisfied: pyarrow>=14.0.1 in /usr/local/lib/python3.10/dist-packages (from dask-expr<1.2,>=1.1->dask[dataframe]->pandas-plink) (17.0.0)\n",
            "Requirement already satisfied: zipp>=3.20 in /usr/local/lib/python3.10/dist-packages (from importlib-metadata>=4.13.0->dask[dataframe]->pandas-plink) (3.20.2)\n",
            "Requirement already satisfied: locket in /usr/local/lib/python3.10/dist-packages (from partd>=1.4.0->dask[dataframe]->pandas-plink) (1.0.0)\n",
            "Requirement already satisfied: six>=1.5 in /usr/local/lib/python3.10/dist-packages (from python-dateutil>=2.8.2->pandas<3.0,>=2.2->pandas-plink) (1.16.0)\n",
            "Collecting mypy-extensions>=0.3.0 (from typing-inspect>=0.6.0->pandera[dask,mypy]->pandas-plink)\n",
            "  Downloading mypy_extensions-1.0.0-py3-none-any.whl.metadata (1.1 kB)\n",
            "Requirement already satisfied: typing-extensions>=3.7.4 in /usr/local/lib/python3.10/dist-packages (from typing-inspect>=0.6.0->pandera[dask,mypy]->pandas-plink) (4.12.2)\n",
            "Requirement already satisfied: types-pytz>=2022.1.1 in /usr/local/lib/python3.10/dist-packages (from pandas-stubs->pandera[dask,mypy]->pandas-plink) (2024.2.0.20241003)\n",
            "Requirement already satisfied: annotated-types>=0.6.0 in /usr/local/lib/python3.10/dist-packages (from pydantic->pandera[dask,mypy]->pandas-plink) (0.7.0)\n",
            "Requirement already satisfied: pydantic-core==2.23.4 in /usr/local/lib/python3.10/dist-packages (from pydantic->pandera[dask,mypy]->pandas-plink) (2.23.4)\n",
            "Downloading pandas_plink-2.3.1-cp310-cp310-manylinux_2_17_x86_64.manylinux_2_5_x86_64.manylinux1_x86_64.manylinux2014_x86_64.whl (42 kB)\n",
            "\u001b[2K   \u001b[90m━━━━━━━━━━━━━━━━━━━━━━━━━━━━━━━━━━━━━━━━\u001b[0m \u001b[32m42.2/42.2 kB\u001b[0m \u001b[31m1.8 MB/s\u001b[0m eta \u001b[36m0:00:00\u001b[0m\n",
            "\u001b[?25hDownloading zstandard-0.22.0-cp310-cp310-manylinux_2_17_x86_64.manylinux2014_x86_64.whl (5.4 MB)\n",
            "\u001b[2K   \u001b[90m━━━━━━━━━━━━━━━━━━━━━━━━━━━━━━━━━━━━━━━━\u001b[0m \u001b[32m5.4/5.4 MB\u001b[0m \u001b[31m47.5 MB/s\u001b[0m eta \u001b[36m0:00:00\u001b[0m\n",
            "\u001b[?25hDownloading dask_expr-1.1.16-py3-none-any.whl (243 kB)\n",
            "\u001b[2K   \u001b[90m━━━━━━━━━━━━━━━━━━━━━━━━━━━━━━━━━━━━━━━━\u001b[0m \u001b[32m243.2/243.2 kB\u001b[0m \u001b[31m16.2 MB/s\u001b[0m eta \u001b[36m0:00:00\u001b[0m\n",
            "\u001b[?25hDownloading multimethod-1.10-py3-none-any.whl (9.9 kB)\n",
            "Downloading typing_inspect-0.9.0-py3-none-any.whl (8.8 kB)\n",
            "Downloading pandera-0.20.4-py3-none-any.whl (259 kB)\n",
            "\u001b[2K   \u001b[90m━━━━━━━━━━━━━━━━━━━━━━━━━━━━━━━━━━━━━━━━\u001b[0m \u001b[32m259.6/259.6 kB\u001b[0m \u001b[31m18.5 MB/s\u001b[0m eta \u001b[36m0:00:00\u001b[0m\n",
            "\u001b[?25hDownloading mypy_extensions-1.0.0-py3-none-any.whl (4.7 kB)\n",
            "Installing collected packages: zstandard, mypy-extensions, multimethod, typing-inspect, pandera, dask-expr, pandas-plink\n",
            "Successfully installed dask-expr-1.1.16 multimethod-1.10 mypy-extensions-1.0.0 pandas-plink-2.3.1 pandera-0.20.4 typing-inspect-0.9.0 zstandard-0.22.0\n"
          ]
        },
        {
          "output_type": "stream",
          "name": "stderr",
          "text": [
            "Mapping files: 100%|██████████| 3/3 [00:26<00:00,  8.82s/it]\n",
            "/usr/local/lib/python3.10/dist-packages/pyspark/pandas/__init__.py:50: UserWarning: 'PYARROW_IGNORE_TIMEZONE' environment variable was not set. It is required to set this environment variable to '1' in both driver and executor sides if you use pyarrow>=2.0.0. pandas-on-Spark will set it for you but it does not work if there is a Spark context already launched.\n",
            "  warnings.warn(\n"
          ]
        }
      ],
      "execution_count": 2
    },
    {
      "metadata": {
        "id": "475648269ca6240c"
      },
      "cell_type": "markdown",
      "source": [
        "### BIM file\n",
        "The bim file contains information about the SNPs in the dataset, and is made available as a pandas DataFrame."
      ],
      "id": "475648269ca6240c"
    },
    {
      "metadata": {
        "ExecuteTime": {
          "end_time": "2024-10-27T11:07:55.382918Z",
          "start_time": "2024-10-27T11:07:55.377806Z"
        },
        "id": "b5b91fa973b27b41",
        "outputId": "f0942f05-571a-43d6-989d-4431e500229b",
        "colab": {
          "base_uri": "https://localhost:8080/",
          "height": 206
        }
      },
      "cell_type": "code",
      "source": [
        "bim.head()"
      ],
      "id": "b5b91fa973b27b41",
      "outputs": [
        {
          "output_type": "execute_result",
          "data": {
            "text/plain": [
              "  chrom                           snp   cm  pos a0 a1  i\n",
              "0     0   snp10134-scaffold1361-15149  0.0    0  A  G  0\n",
              "1     0   snp10135-scaffold1361-44576  0.0    0  A  G  1\n",
              "2     0   snp10136-scaffold1361-91495  0.0    0  G  A  2\n",
              "3     0  snp10412-scaffold1372-579082  0.0    0  0  G  3\n",
              "4     0  snp10413-scaffold1372-610565  0.0    0  G  A  4"
            ],
            "text/html": [
              "\n",
              "  <div id=\"df-351cfbcd-cfe2-4760-813a-809a8324020e\" class=\"colab-df-container\">\n",
              "    <div>\n",
              "<style scoped>\n",
              "    .dataframe tbody tr th:only-of-type {\n",
              "        vertical-align: middle;\n",
              "    }\n",
              "\n",
              "    .dataframe tbody tr th {\n",
              "        vertical-align: top;\n",
              "    }\n",
              "\n",
              "    .dataframe thead th {\n",
              "        text-align: right;\n",
              "    }\n",
              "</style>\n",
              "<table border=\"1\" class=\"dataframe\">\n",
              "  <thead>\n",
              "    <tr style=\"text-align: right;\">\n",
              "      <th></th>\n",
              "      <th>chrom</th>\n",
              "      <th>snp</th>\n",
              "      <th>cm</th>\n",
              "      <th>pos</th>\n",
              "      <th>a0</th>\n",
              "      <th>a1</th>\n",
              "      <th>i</th>\n",
              "    </tr>\n",
              "  </thead>\n",
              "  <tbody>\n",
              "    <tr>\n",
              "      <th>0</th>\n",
              "      <td>0</td>\n",
              "      <td>snp10134-scaffold1361-15149</td>\n",
              "      <td>0.0</td>\n",
              "      <td>0</td>\n",
              "      <td>A</td>\n",
              "      <td>G</td>\n",
              "      <td>0</td>\n",
              "    </tr>\n",
              "    <tr>\n",
              "      <th>1</th>\n",
              "      <td>0</td>\n",
              "      <td>snp10135-scaffold1361-44576</td>\n",
              "      <td>0.0</td>\n",
              "      <td>0</td>\n",
              "      <td>A</td>\n",
              "      <td>G</td>\n",
              "      <td>1</td>\n",
              "    </tr>\n",
              "    <tr>\n",
              "      <th>2</th>\n",
              "      <td>0</td>\n",
              "      <td>snp10136-scaffold1361-91495</td>\n",
              "      <td>0.0</td>\n",
              "      <td>0</td>\n",
              "      <td>G</td>\n",
              "      <td>A</td>\n",
              "      <td>2</td>\n",
              "    </tr>\n",
              "    <tr>\n",
              "      <th>3</th>\n",
              "      <td>0</td>\n",
              "      <td>snp10412-scaffold1372-579082</td>\n",
              "      <td>0.0</td>\n",
              "      <td>0</td>\n",
              "      <td>0</td>\n",
              "      <td>G</td>\n",
              "      <td>3</td>\n",
              "    </tr>\n",
              "    <tr>\n",
              "      <th>4</th>\n",
              "      <td>0</td>\n",
              "      <td>snp10413-scaffold1372-610565</td>\n",
              "      <td>0.0</td>\n",
              "      <td>0</td>\n",
              "      <td>G</td>\n",
              "      <td>A</td>\n",
              "      <td>4</td>\n",
              "    </tr>\n",
              "  </tbody>\n",
              "</table>\n",
              "</div>\n",
              "    <div class=\"colab-df-buttons\">\n",
              "\n",
              "  <div class=\"colab-df-container\">\n",
              "    <button class=\"colab-df-convert\" onclick=\"convertToInteractive('df-351cfbcd-cfe2-4760-813a-809a8324020e')\"\n",
              "            title=\"Convert this dataframe to an interactive table.\"\n",
              "            style=\"display:none;\">\n",
              "\n",
              "  <svg xmlns=\"http://www.w3.org/2000/svg\" height=\"24px\" viewBox=\"0 -960 960 960\">\n",
              "    <path d=\"M120-120v-720h720v720H120Zm60-500h600v-160H180v160Zm220 220h160v-160H400v160Zm0 220h160v-160H400v160ZM180-400h160v-160H180v160Zm440 0h160v-160H620v160ZM180-180h160v-160H180v160Zm440 0h160v-160H620v160Z\"/>\n",
              "  </svg>\n",
              "    </button>\n",
              "\n",
              "  <style>\n",
              "    .colab-df-container {\n",
              "      display:flex;\n",
              "      gap: 12px;\n",
              "    }\n",
              "\n",
              "    .colab-df-convert {\n",
              "      background-color: #E8F0FE;\n",
              "      border: none;\n",
              "      border-radius: 50%;\n",
              "      cursor: pointer;\n",
              "      display: none;\n",
              "      fill: #1967D2;\n",
              "      height: 32px;\n",
              "      padding: 0 0 0 0;\n",
              "      width: 32px;\n",
              "    }\n",
              "\n",
              "    .colab-df-convert:hover {\n",
              "      background-color: #E2EBFA;\n",
              "      box-shadow: 0px 1px 2px rgba(60, 64, 67, 0.3), 0px 1px 3px 1px rgba(60, 64, 67, 0.15);\n",
              "      fill: #174EA6;\n",
              "    }\n",
              "\n",
              "    .colab-df-buttons div {\n",
              "      margin-bottom: 4px;\n",
              "    }\n",
              "\n",
              "    [theme=dark] .colab-df-convert {\n",
              "      background-color: #3B4455;\n",
              "      fill: #D2E3FC;\n",
              "    }\n",
              "\n",
              "    [theme=dark] .colab-df-convert:hover {\n",
              "      background-color: #434B5C;\n",
              "      box-shadow: 0px 1px 3px 1px rgba(0, 0, 0, 0.15);\n",
              "      filter: drop-shadow(0px 1px 2px rgba(0, 0, 0, 0.3));\n",
              "      fill: #FFFFFF;\n",
              "    }\n",
              "  </style>\n",
              "\n",
              "    <script>\n",
              "      const buttonEl =\n",
              "        document.querySelector('#df-351cfbcd-cfe2-4760-813a-809a8324020e button.colab-df-convert');\n",
              "      buttonEl.style.display =\n",
              "        google.colab.kernel.accessAllowed ? 'block' : 'none';\n",
              "\n",
              "      async function convertToInteractive(key) {\n",
              "        const element = document.querySelector('#df-351cfbcd-cfe2-4760-813a-809a8324020e');\n",
              "        const dataTable =\n",
              "          await google.colab.kernel.invokeFunction('convertToInteractive',\n",
              "                                                    [key], {});\n",
              "        if (!dataTable) return;\n",
              "\n",
              "        const docLinkHtml = 'Like what you see? Visit the ' +\n",
              "          '<a target=\"_blank\" href=https://colab.research.google.com/notebooks/data_table.ipynb>data table notebook</a>'\n",
              "          + ' to learn more about interactive tables.';\n",
              "        element.innerHTML = '';\n",
              "        dataTable['output_type'] = 'display_data';\n",
              "        await google.colab.output.renderOutput(dataTable, element);\n",
              "        const docLink = document.createElement('div');\n",
              "        docLink.innerHTML = docLinkHtml;\n",
              "        element.appendChild(docLink);\n",
              "      }\n",
              "    </script>\n",
              "  </div>\n",
              "\n",
              "\n",
              "<div id=\"df-9bf705df-a6bb-462c-853b-31be260ce33b\">\n",
              "  <button class=\"colab-df-quickchart\" onclick=\"quickchart('df-9bf705df-a6bb-462c-853b-31be260ce33b')\"\n",
              "            title=\"Suggest charts\"\n",
              "            style=\"display:none;\">\n",
              "\n",
              "<svg xmlns=\"http://www.w3.org/2000/svg\" height=\"24px\"viewBox=\"0 0 24 24\"\n",
              "     width=\"24px\">\n",
              "    <g>\n",
              "        <path d=\"M19 3H5c-1.1 0-2 .9-2 2v14c0 1.1.9 2 2 2h14c1.1 0 2-.9 2-2V5c0-1.1-.9-2-2-2zM9 17H7v-7h2v7zm4 0h-2V7h2v10zm4 0h-2v-4h2v4z\"/>\n",
              "    </g>\n",
              "</svg>\n",
              "  </button>\n",
              "\n",
              "<style>\n",
              "  .colab-df-quickchart {\n",
              "      --bg-color: #E8F0FE;\n",
              "      --fill-color: #1967D2;\n",
              "      --hover-bg-color: #E2EBFA;\n",
              "      --hover-fill-color: #174EA6;\n",
              "      --disabled-fill-color: #AAA;\n",
              "      --disabled-bg-color: #DDD;\n",
              "  }\n",
              "\n",
              "  [theme=dark] .colab-df-quickchart {\n",
              "      --bg-color: #3B4455;\n",
              "      --fill-color: #D2E3FC;\n",
              "      --hover-bg-color: #434B5C;\n",
              "      --hover-fill-color: #FFFFFF;\n",
              "      --disabled-bg-color: #3B4455;\n",
              "      --disabled-fill-color: #666;\n",
              "  }\n",
              "\n",
              "  .colab-df-quickchart {\n",
              "    background-color: var(--bg-color);\n",
              "    border: none;\n",
              "    border-radius: 50%;\n",
              "    cursor: pointer;\n",
              "    display: none;\n",
              "    fill: var(--fill-color);\n",
              "    height: 32px;\n",
              "    padding: 0;\n",
              "    width: 32px;\n",
              "  }\n",
              "\n",
              "  .colab-df-quickchart:hover {\n",
              "    background-color: var(--hover-bg-color);\n",
              "    box-shadow: 0 1px 2px rgba(60, 64, 67, 0.3), 0 1px 3px 1px rgba(60, 64, 67, 0.15);\n",
              "    fill: var(--button-hover-fill-color);\n",
              "  }\n",
              "\n",
              "  .colab-df-quickchart-complete:disabled,\n",
              "  .colab-df-quickchart-complete:disabled:hover {\n",
              "    background-color: var(--disabled-bg-color);\n",
              "    fill: var(--disabled-fill-color);\n",
              "    box-shadow: none;\n",
              "  }\n",
              "\n",
              "  .colab-df-spinner {\n",
              "    border: 2px solid var(--fill-color);\n",
              "    border-color: transparent;\n",
              "    border-bottom-color: var(--fill-color);\n",
              "    animation:\n",
              "      spin 1s steps(1) infinite;\n",
              "  }\n",
              "\n",
              "  @keyframes spin {\n",
              "    0% {\n",
              "      border-color: transparent;\n",
              "      border-bottom-color: var(--fill-color);\n",
              "      border-left-color: var(--fill-color);\n",
              "    }\n",
              "    20% {\n",
              "      border-color: transparent;\n",
              "      border-left-color: var(--fill-color);\n",
              "      border-top-color: var(--fill-color);\n",
              "    }\n",
              "    30% {\n",
              "      border-color: transparent;\n",
              "      border-left-color: var(--fill-color);\n",
              "      border-top-color: var(--fill-color);\n",
              "      border-right-color: var(--fill-color);\n",
              "    }\n",
              "    40% {\n",
              "      border-color: transparent;\n",
              "      border-right-color: var(--fill-color);\n",
              "      border-top-color: var(--fill-color);\n",
              "    }\n",
              "    60% {\n",
              "      border-color: transparent;\n",
              "      border-right-color: var(--fill-color);\n",
              "    }\n",
              "    80% {\n",
              "      border-color: transparent;\n",
              "      border-right-color: var(--fill-color);\n",
              "      border-bottom-color: var(--fill-color);\n",
              "    }\n",
              "    90% {\n",
              "      border-color: transparent;\n",
              "      border-bottom-color: var(--fill-color);\n",
              "    }\n",
              "  }\n",
              "</style>\n",
              "\n",
              "  <script>\n",
              "    async function quickchart(key) {\n",
              "      const quickchartButtonEl =\n",
              "        document.querySelector('#' + key + ' button');\n",
              "      quickchartButtonEl.disabled = true;  // To prevent multiple clicks.\n",
              "      quickchartButtonEl.classList.add('colab-df-spinner');\n",
              "      try {\n",
              "        const charts = await google.colab.kernel.invokeFunction(\n",
              "            'suggestCharts', [key], {});\n",
              "      } catch (error) {\n",
              "        console.error('Error during call to suggestCharts:', error);\n",
              "      }\n",
              "      quickchartButtonEl.classList.remove('colab-df-spinner');\n",
              "      quickchartButtonEl.classList.add('colab-df-quickchart-complete');\n",
              "    }\n",
              "    (() => {\n",
              "      let quickchartButtonEl =\n",
              "        document.querySelector('#df-9bf705df-a6bb-462c-853b-31be260ce33b button');\n",
              "      quickchartButtonEl.style.display =\n",
              "        google.colab.kernel.accessAllowed ? 'block' : 'none';\n",
              "    })();\n",
              "  </script>\n",
              "</div>\n",
              "\n",
              "    </div>\n",
              "  </div>\n"
            ],
            "application/vnd.google.colaboratory.intrinsic+json": {
              "type": "dataframe",
              "variable_name": "bim",
              "summary": "{\n  \"name\": \"bim\",\n  \"rows\": 53347,\n  \"fields\": [\n    {\n      \"column\": \"chrom\",\n      \"properties\": {\n        \"dtype\": \"string\",\n        \"num_unique_values\": 31,\n        \"samples\": [\n          \"27\",\n          \"15\",\n          \"23\"\n        ],\n        \"semantic_type\": \"\",\n        \"description\": \"\"\n      }\n    },\n    {\n      \"column\": \"snp\",\n      \"properties\": {\n        \"dtype\": \"string\",\n        \"num_unique_values\": 53347,\n        \"samples\": [\n          \"snp46852-scaffold653-3526458\",\n          \"snp31961-scaffold358-957722\",\n          \"snp57223-scaffold911-658902\"\n        ],\n        \"semantic_type\": \"\",\n        \"description\": \"\"\n      }\n    },\n    {\n      \"column\": \"cm\",\n      \"properties\": {\n        \"dtype\": \"number\",\n        \"std\": 0.0,\n        \"min\": 0.0,\n        \"max\": 0.0,\n        \"num_unique_values\": 1,\n        \"samples\": [\n          0.0\n        ],\n        \"semantic_type\": \"\",\n        \"description\": \"\"\n      }\n    },\n    {\n      \"column\": \"pos\",\n      \"properties\": {\n        \"dtype\": \"int32\",\n        \"num_unique_values\": 51916,\n        \"samples\": [\n          47867208\n        ],\n        \"semantic_type\": \"\",\n        \"description\": \"\"\n      }\n    },\n    {\n      \"column\": \"a0\",\n      \"properties\": {\n        \"dtype\": \"string\",\n        \"num_unique_values\": 4,\n        \"samples\": [\n          \"G\"\n        ],\n        \"semantic_type\": \"\",\n        \"description\": \"\"\n      }\n    },\n    {\n      \"column\": \"a1\",\n      \"properties\": {\n        \"dtype\": \"string\",\n        \"num_unique_values\": 4,\n        \"samples\": [\n          \"A\"\n        ],\n        \"semantic_type\": \"\",\n        \"description\": \"\"\n      }\n    },\n    {\n      \"column\": \"i\",\n      \"properties\": {\n        \"dtype\": \"number\",\n        \"std\": 15400,\n        \"min\": 0,\n        \"max\": 53346,\n        \"num_unique_values\": 53347,\n        \"samples\": [\n          37074\n        ],\n        \"semantic_type\": \"\",\n        \"description\": \"\"\n      }\n    }\n  ]\n}"
            }
          },
          "metadata": {},
          "execution_count": 3
        }
      ],
      "execution_count": 3
    },
    {
      "metadata": {
        "id": "c18568360532b042"
      },
      "cell_type": "markdown",
      "source": [
        "### FAM file\n",
        "The fam file contains information about the individuals in the dataset, and is also made available as a pandas DataFrame."
      ],
      "id": "c18568360532b042"
    },
    {
      "metadata": {
        "ExecuteTime": {
          "end_time": "2024-10-27T11:07:55.420289Z",
          "start_time": "2024-10-27T11:07:55.415642Z"
        },
        "id": "c0f4ecb242b8f216",
        "outputId": "c75f0ef2-1c40-4ee2-a16c-e9ed6665ac87",
        "colab": {
          "base_uri": "https://localhost:8080/",
          "height": 206
        }
      },
      "cell_type": "code",
      "source": [
        "fam.head()"
      ],
      "id": "c0f4ecb242b8f216",
      "outputs": [
        {
          "output_type": "execute_result",
          "data": {
            "text/plain": [
              "   fid         iid father mother gender trait  i\n",
              "0  ABR  ET_ABR0001      0      0      0    -9  0\n",
              "1  ABR  ET_ABR0002      0      0      0    -9  1\n",
              "2  ABR  ET_ABR0003      0      0      0    -9  2\n",
              "3  ABR  ET_ABR0004      0      0      0    -9  3\n",
              "4  ABR  ET_ABR0005      0      0      0    -9  4"
            ],
            "text/html": [
              "\n",
              "  <div id=\"df-63b1eab4-c350-49f9-9f40-c8135dcd6f71\" class=\"colab-df-container\">\n",
              "    <div>\n",
              "<style scoped>\n",
              "    .dataframe tbody tr th:only-of-type {\n",
              "        vertical-align: middle;\n",
              "    }\n",
              "\n",
              "    .dataframe tbody tr th {\n",
              "        vertical-align: top;\n",
              "    }\n",
              "\n",
              "    .dataframe thead th {\n",
              "        text-align: right;\n",
              "    }\n",
              "</style>\n",
              "<table border=\"1\" class=\"dataframe\">\n",
              "  <thead>\n",
              "    <tr style=\"text-align: right;\">\n",
              "      <th></th>\n",
              "      <th>fid</th>\n",
              "      <th>iid</th>\n",
              "      <th>father</th>\n",
              "      <th>mother</th>\n",
              "      <th>gender</th>\n",
              "      <th>trait</th>\n",
              "      <th>i</th>\n",
              "    </tr>\n",
              "  </thead>\n",
              "  <tbody>\n",
              "    <tr>\n",
              "      <th>0</th>\n",
              "      <td>ABR</td>\n",
              "      <td>ET_ABR0001</td>\n",
              "      <td>0</td>\n",
              "      <td>0</td>\n",
              "      <td>0</td>\n",
              "      <td>-9</td>\n",
              "      <td>0</td>\n",
              "    </tr>\n",
              "    <tr>\n",
              "      <th>1</th>\n",
              "      <td>ABR</td>\n",
              "      <td>ET_ABR0002</td>\n",
              "      <td>0</td>\n",
              "      <td>0</td>\n",
              "      <td>0</td>\n",
              "      <td>-9</td>\n",
              "      <td>1</td>\n",
              "    </tr>\n",
              "    <tr>\n",
              "      <th>2</th>\n",
              "      <td>ABR</td>\n",
              "      <td>ET_ABR0003</td>\n",
              "      <td>0</td>\n",
              "      <td>0</td>\n",
              "      <td>0</td>\n",
              "      <td>-9</td>\n",
              "      <td>2</td>\n",
              "    </tr>\n",
              "    <tr>\n",
              "      <th>3</th>\n",
              "      <td>ABR</td>\n",
              "      <td>ET_ABR0004</td>\n",
              "      <td>0</td>\n",
              "      <td>0</td>\n",
              "      <td>0</td>\n",
              "      <td>-9</td>\n",
              "      <td>3</td>\n",
              "    </tr>\n",
              "    <tr>\n",
              "      <th>4</th>\n",
              "      <td>ABR</td>\n",
              "      <td>ET_ABR0005</td>\n",
              "      <td>0</td>\n",
              "      <td>0</td>\n",
              "      <td>0</td>\n",
              "      <td>-9</td>\n",
              "      <td>4</td>\n",
              "    </tr>\n",
              "  </tbody>\n",
              "</table>\n",
              "</div>\n",
              "    <div class=\"colab-df-buttons\">\n",
              "\n",
              "  <div class=\"colab-df-container\">\n",
              "    <button class=\"colab-df-convert\" onclick=\"convertToInteractive('df-63b1eab4-c350-49f9-9f40-c8135dcd6f71')\"\n",
              "            title=\"Convert this dataframe to an interactive table.\"\n",
              "            style=\"display:none;\">\n",
              "\n",
              "  <svg xmlns=\"http://www.w3.org/2000/svg\" height=\"24px\" viewBox=\"0 -960 960 960\">\n",
              "    <path d=\"M120-120v-720h720v720H120Zm60-500h600v-160H180v160Zm220 220h160v-160H400v160Zm0 220h160v-160H400v160ZM180-400h160v-160H180v160Zm440 0h160v-160H620v160ZM180-180h160v-160H180v160Zm440 0h160v-160H620v160Z\"/>\n",
              "  </svg>\n",
              "    </button>\n",
              "\n",
              "  <style>\n",
              "    .colab-df-container {\n",
              "      display:flex;\n",
              "      gap: 12px;\n",
              "    }\n",
              "\n",
              "    .colab-df-convert {\n",
              "      background-color: #E8F0FE;\n",
              "      border: none;\n",
              "      border-radius: 50%;\n",
              "      cursor: pointer;\n",
              "      display: none;\n",
              "      fill: #1967D2;\n",
              "      height: 32px;\n",
              "      padding: 0 0 0 0;\n",
              "      width: 32px;\n",
              "    }\n",
              "\n",
              "    .colab-df-convert:hover {\n",
              "      background-color: #E2EBFA;\n",
              "      box-shadow: 0px 1px 2px rgba(60, 64, 67, 0.3), 0px 1px 3px 1px rgba(60, 64, 67, 0.15);\n",
              "      fill: #174EA6;\n",
              "    }\n",
              "\n",
              "    .colab-df-buttons div {\n",
              "      margin-bottom: 4px;\n",
              "    }\n",
              "\n",
              "    [theme=dark] .colab-df-convert {\n",
              "      background-color: #3B4455;\n",
              "      fill: #D2E3FC;\n",
              "    }\n",
              "\n",
              "    [theme=dark] .colab-df-convert:hover {\n",
              "      background-color: #434B5C;\n",
              "      box-shadow: 0px 1px 3px 1px rgba(0, 0, 0, 0.15);\n",
              "      filter: drop-shadow(0px 1px 2px rgba(0, 0, 0, 0.3));\n",
              "      fill: #FFFFFF;\n",
              "    }\n",
              "  </style>\n",
              "\n",
              "    <script>\n",
              "      const buttonEl =\n",
              "        document.querySelector('#df-63b1eab4-c350-49f9-9f40-c8135dcd6f71 button.colab-df-convert');\n",
              "      buttonEl.style.display =\n",
              "        google.colab.kernel.accessAllowed ? 'block' : 'none';\n",
              "\n",
              "      async function convertToInteractive(key) {\n",
              "        const element = document.querySelector('#df-63b1eab4-c350-49f9-9f40-c8135dcd6f71');\n",
              "        const dataTable =\n",
              "          await google.colab.kernel.invokeFunction('convertToInteractive',\n",
              "                                                    [key], {});\n",
              "        if (!dataTable) return;\n",
              "\n",
              "        const docLinkHtml = 'Like what you see? Visit the ' +\n",
              "          '<a target=\"_blank\" href=https://colab.research.google.com/notebooks/data_table.ipynb>data table notebook</a>'\n",
              "          + ' to learn more about interactive tables.';\n",
              "        element.innerHTML = '';\n",
              "        dataTable['output_type'] = 'display_data';\n",
              "        await google.colab.output.renderOutput(dataTable, element);\n",
              "        const docLink = document.createElement('div');\n",
              "        docLink.innerHTML = docLinkHtml;\n",
              "        element.appendChild(docLink);\n",
              "      }\n",
              "    </script>\n",
              "  </div>\n",
              "\n",
              "\n",
              "<div id=\"df-0e102286-a538-4cb9-bc4c-c7e5849f9346\">\n",
              "  <button class=\"colab-df-quickchart\" onclick=\"quickchart('df-0e102286-a538-4cb9-bc4c-c7e5849f9346')\"\n",
              "            title=\"Suggest charts\"\n",
              "            style=\"display:none;\">\n",
              "\n",
              "<svg xmlns=\"http://www.w3.org/2000/svg\" height=\"24px\"viewBox=\"0 0 24 24\"\n",
              "     width=\"24px\">\n",
              "    <g>\n",
              "        <path d=\"M19 3H5c-1.1 0-2 .9-2 2v14c0 1.1.9 2 2 2h14c1.1 0 2-.9 2-2V5c0-1.1-.9-2-2-2zM9 17H7v-7h2v7zm4 0h-2V7h2v10zm4 0h-2v-4h2v4z\"/>\n",
              "    </g>\n",
              "</svg>\n",
              "  </button>\n",
              "\n",
              "<style>\n",
              "  .colab-df-quickchart {\n",
              "      --bg-color: #E8F0FE;\n",
              "      --fill-color: #1967D2;\n",
              "      --hover-bg-color: #E2EBFA;\n",
              "      --hover-fill-color: #174EA6;\n",
              "      --disabled-fill-color: #AAA;\n",
              "      --disabled-bg-color: #DDD;\n",
              "  }\n",
              "\n",
              "  [theme=dark] .colab-df-quickchart {\n",
              "      --bg-color: #3B4455;\n",
              "      --fill-color: #D2E3FC;\n",
              "      --hover-bg-color: #434B5C;\n",
              "      --hover-fill-color: #FFFFFF;\n",
              "      --disabled-bg-color: #3B4455;\n",
              "      --disabled-fill-color: #666;\n",
              "  }\n",
              "\n",
              "  .colab-df-quickchart {\n",
              "    background-color: var(--bg-color);\n",
              "    border: none;\n",
              "    border-radius: 50%;\n",
              "    cursor: pointer;\n",
              "    display: none;\n",
              "    fill: var(--fill-color);\n",
              "    height: 32px;\n",
              "    padding: 0;\n",
              "    width: 32px;\n",
              "  }\n",
              "\n",
              "  .colab-df-quickchart:hover {\n",
              "    background-color: var(--hover-bg-color);\n",
              "    box-shadow: 0 1px 2px rgba(60, 64, 67, 0.3), 0 1px 3px 1px rgba(60, 64, 67, 0.15);\n",
              "    fill: var(--button-hover-fill-color);\n",
              "  }\n",
              "\n",
              "  .colab-df-quickchart-complete:disabled,\n",
              "  .colab-df-quickchart-complete:disabled:hover {\n",
              "    background-color: var(--disabled-bg-color);\n",
              "    fill: var(--disabled-fill-color);\n",
              "    box-shadow: none;\n",
              "  }\n",
              "\n",
              "  .colab-df-spinner {\n",
              "    border: 2px solid var(--fill-color);\n",
              "    border-color: transparent;\n",
              "    border-bottom-color: var(--fill-color);\n",
              "    animation:\n",
              "      spin 1s steps(1) infinite;\n",
              "  }\n",
              "\n",
              "  @keyframes spin {\n",
              "    0% {\n",
              "      border-color: transparent;\n",
              "      border-bottom-color: var(--fill-color);\n",
              "      border-left-color: var(--fill-color);\n",
              "    }\n",
              "    20% {\n",
              "      border-color: transparent;\n",
              "      border-left-color: var(--fill-color);\n",
              "      border-top-color: var(--fill-color);\n",
              "    }\n",
              "    30% {\n",
              "      border-color: transparent;\n",
              "      border-left-color: var(--fill-color);\n",
              "      border-top-color: var(--fill-color);\n",
              "      border-right-color: var(--fill-color);\n",
              "    }\n",
              "    40% {\n",
              "      border-color: transparent;\n",
              "      border-right-color: var(--fill-color);\n",
              "      border-top-color: var(--fill-color);\n",
              "    }\n",
              "    60% {\n",
              "      border-color: transparent;\n",
              "      border-right-color: var(--fill-color);\n",
              "    }\n",
              "    80% {\n",
              "      border-color: transparent;\n",
              "      border-right-color: var(--fill-color);\n",
              "      border-bottom-color: var(--fill-color);\n",
              "    }\n",
              "    90% {\n",
              "      border-color: transparent;\n",
              "      border-bottom-color: var(--fill-color);\n",
              "    }\n",
              "  }\n",
              "</style>\n",
              "\n",
              "  <script>\n",
              "    async function quickchart(key) {\n",
              "      const quickchartButtonEl =\n",
              "        document.querySelector('#' + key + ' button');\n",
              "      quickchartButtonEl.disabled = true;  // To prevent multiple clicks.\n",
              "      quickchartButtonEl.classList.add('colab-df-spinner');\n",
              "      try {\n",
              "        const charts = await google.colab.kernel.invokeFunction(\n",
              "            'suggestCharts', [key], {});\n",
              "      } catch (error) {\n",
              "        console.error('Error during call to suggestCharts:', error);\n",
              "      }\n",
              "      quickchartButtonEl.classList.remove('colab-df-spinner');\n",
              "      quickchartButtonEl.classList.add('colab-df-quickchart-complete');\n",
              "    }\n",
              "    (() => {\n",
              "      let quickchartButtonEl =\n",
              "        document.querySelector('#df-0e102286-a538-4cb9-bc4c-c7e5849f9346 button');\n",
              "      quickchartButtonEl.style.display =\n",
              "        google.colab.kernel.accessAllowed ? 'block' : 'none';\n",
              "    })();\n",
              "  </script>\n",
              "</div>\n",
              "\n",
              "    </div>\n",
              "  </div>\n"
            ],
            "application/vnd.google.colaboratory.intrinsic+json": {
              "type": "dataframe",
              "variable_name": "fam",
              "summary": "{\n  \"name\": \"fam\",\n  \"rows\": 4653,\n  \"fields\": [\n    {\n      \"column\": \"fid\",\n      \"properties\": {\n        \"dtype\": \"string\",\n        \"num_unique_values\": 144,\n        \"samples\": [\n          \"SCL\",\n          \"BRI\",\n          \"MUB\"\n        ],\n        \"semantic_type\": \"\",\n        \"description\": \"\"\n      }\n    },\n    {\n      \"column\": \"iid\",\n      \"properties\": {\n        \"dtype\": \"string\",\n        \"num_unique_values\": 4653,\n        \"samples\": [\n          \"IT_ALP0119\",\n          \"DK_LNR0120\",\n          \"AR_ANG0191\"\n        ],\n        \"semantic_type\": \"\",\n        \"description\": \"\"\n      }\n    },\n    {\n      \"column\": \"father\",\n      \"properties\": {\n        \"dtype\": \"string\",\n        \"num_unique_values\": 1,\n        \"samples\": [\n          \"0\"\n        ],\n        \"semantic_type\": \"\",\n        \"description\": \"\"\n      }\n    },\n    {\n      \"column\": \"mother\",\n      \"properties\": {\n        \"dtype\": \"string\",\n        \"num_unique_values\": 1,\n        \"samples\": [\n          \"0\"\n        ],\n        \"semantic_type\": \"\",\n        \"description\": \"\"\n      }\n    },\n    {\n      \"column\": \"gender\",\n      \"properties\": {\n        \"dtype\": \"string\",\n        \"num_unique_values\": 3,\n        \"samples\": [\n          \"0\"\n        ],\n        \"semantic_type\": \"\",\n        \"description\": \"\"\n      }\n    },\n    {\n      \"column\": \"trait\",\n      \"properties\": {\n        \"dtype\": \"string\",\n        \"num_unique_values\": 1,\n        \"samples\": [\n          \"-9\"\n        ],\n        \"semantic_type\": \"\",\n        \"description\": \"\"\n      }\n    },\n    {\n      \"column\": \"i\",\n      \"properties\": {\n        \"dtype\": \"number\",\n        \"std\": 1343,\n        \"min\": 0,\n        \"max\": 4652,\n        \"num_unique_values\": 4653,\n        \"samples\": [\n          297\n        ],\n        \"semantic_type\": \"\",\n        \"description\": \"\"\n      }\n    }\n  ]\n}"
            }
          },
          "metadata": {},
          "execution_count": 4
        }
      ],
      "execution_count": 4
    },
    {
      "metadata": {
        "id": "373f82bab615765e"
      },
      "cell_type": "markdown",
      "source": [
        "### BED file\n",
        "The bed file contains the genotype data per SNP and individual which we will mainly work with. This file is potentially large, and made available as a dask array. Dask is a flexible library for parallel computing in Python. It allows you to break up arrays into smaller chunks, which can be computed in parallel. This is useful when working with large datasets that do not fit into memory. The interface is similar to NumPy, so you can use it as a drop-in replacement in many cases. Operations on dask arrays are lazy, meaning that they are not computed until you explicitly ask for the result. This allows you to build up complex computations without running out of memory. You can read more about it here: \\[https://docs.dask.org/en/stable/array.html]. We can evaluate the query by calling the compute() method, which will return a NumPy array."
      ],
      "id": "373f82bab615765e"
    },
    {
      "metadata": {
        "ExecuteTime": {
          "end_time": "2024-10-27T11:07:55.583152Z",
          "start_time": "2024-10-27T11:07:55.572478Z"
        },
        "id": "4073c7f907642e01",
        "outputId": "00d37cc0-899f-41e4-9622-9ea147484b31",
        "colab": {
          "base_uri": "https://localhost:8080/"
        }
      },
      "cell_type": "code",
      "source": [
        "# get the first 5 rows (SNPs) and 5 columns (individuals) of the bed file\n",
        "bed[:5, :5].compute()"
      ],
      "id": "4073c7f907642e01",
      "outputs": [
        {
          "output_type": "execute_result",
          "data": {
            "text/plain": [
              "array([[nan, nan, nan, nan, nan],\n",
              "       [nan, nan, nan, nan, nan],\n",
              "       [ 1.,  0.,  1.,  1.,  1.],\n",
              "       [nan, nan, nan, nan, nan],\n",
              "       [ 2.,  2.,  2.,  2.,  2.]], dtype=float32)"
            ]
          },
          "metadata": {},
          "execution_count": 5
        }
      ],
      "execution_count": 5
    },
    {
      "metadata": {
        "id": "9a25cb962fcf736b"
      },
      "cell_type": "markdown",
      "source": [
        "### Quality control and filtering\n",
        "\n",
        "We first need to filter the data to remove SNPs and individuals with too many missing genotypes. We will also remove SNPs with a minor allele frequency (MAF) below 0.05. The filtering will be done with dask arrays."
      ],
      "id": "9a25cb962fcf736b"
    },
    {
      "metadata": {
        "ExecuteTime": {
          "end_time": "2024-10-27T11:07:55.697015Z",
          "start_time": "2024-10-27T11:07:55.631699Z"
        },
        "id": "1ff11ccef802496e",
        "outputId": "1099934e-017b-47f6-e639-e0d4e06f8a37",
        "colab": {
          "base_uri": "https://localhost:8080/"
        }
      },
      "cell_type": "code",
      "source": [
        "import dask.array as da\n",
        "\n",
        "# Drop mitochondrial and sex chromosome SNPs based on your data’s chromosome annotations\n",
        "# Filter chromosomes in bim DataFrame\n",
        "autosomal_snps = bim['chrom'].astype(int) <= 29\n",
        "bed_filtered = bed[autosomal_snps]\n",
        "print(bed_filtered)"
      ],
      "id": "1ff11ccef802496e",
      "outputs": [
        {
          "output_type": "stream",
          "name": "stdout",
          "text": [
            "dask.array<getitem, shape=(51360, 4653), dtype=float32, chunksize=(1060, 1024), chunktype=numpy.ndarray>\n"
          ]
        }
      ],
      "execution_count": 11
    },
    {
      "metadata": {
        "id": "8928d0e3e6d7ab2e"
      },
      "cell_type": "markdown",
      "source": [
        "Question: Why would we want to drop mitochondrial and sex chromosome SNPs?  "
      ],
      "id": "8928d0e3e6d7ab2e"
    },
    {
      "metadata": {
        "ExecuteTime": {
          "end_time": "2024-10-27T11:07:55.739281Z",
          "start_time": "2024-10-27T11:07:55.724327Z"
        },
        "id": "e2504069b0b25e0a"
      },
      "cell_type": "code",
      "source": [
        "# Filter individuals (axis=1) with >5% missing SNPs\n",
        "bed_filtered = bed[:, da.isnan(bed).mean(axis=0) <= 0.05]\n",
        "\n",
        "# Filter SNPs (axis=0) with >5% missing genotypes\n",
        "bed_filtered = bed_filtered[da.isnan(bed_filtered).mean(axis=1) <= 0.05, :]"
      ],
      "id": "e2504069b0b25e0a",
      "outputs": [],
      "execution_count": 7
    },
    {
      "metadata": {
        "id": "4fe69191ec8abcca"
      },
      "cell_type": "markdown",
      "source": [
        "Question: Why would we want to filter individuals with >5% missing SNPs and SNPs with >5% missing genotypes?"
      ],
      "id": "4fe69191ec8abcca"
    },
    {
      "metadata": {
        "ExecuteTime": {
          "end_time": "2024-10-27T11:07:55.757448Z",
          "start_time": "2024-10-27T11:07:55.749061Z"
        },
        "id": "3294b0710429cd9f"
      },
      "cell_type": "code",
      "source": [
        "# Filter SNPs with MAF < 0.05\n",
        "maf = da.nanmean(bed_filtered, axis=1) / 2\n",
        "bed_filtered = bed_filtered[(maf >= 0.05) & (maf <= 0.95), :]"
      ],
      "id": "3294b0710429cd9f",
      "outputs": [],
      "execution_count": null
    },
    {
      "metadata": {
        "id": "d23b0477eb035ffb"
      },
      "cell_type": "markdown",
      "source": [
        "Question: Why would we want to filter SNPs with MAF < 0.05? What is the MAF and why do we divide by 2 in the calculation?"
      ],
      "id": "d23b0477eb035ffb"
    },
    {
      "metadata": {
        "ExecuteTime": {
          "end_time": "2024-10-27T11:07:57.124799Z",
          "start_time": "2024-10-27T11:07:55.771363Z"
        },
        "id": "f2e6abe3699d1112"
      },
      "cell_type": "code",
      "source": [
        "# perform computation and obtain numpy array\n",
        "bed_filtered = bed_filtered.compute()"
      ],
      "id": "f2e6abe3699d1112",
      "outputs": [],
      "execution_count": null
    },
    {
      "metadata": {
        "id": "d5129214e6b8a867"
      },
      "cell_type": "markdown",
      "source": [
        "Before we can perform the PCA, we need to impute the missing values. We will use the mean value to fill in the missing values."
      ],
      "id": "d5129214e6b8a867"
    },
    {
      "metadata": {
        "ExecuteTime": {
          "end_time": "2024-10-27T11:07:59.941616Z",
          "start_time": "2024-10-27T11:07:57.137701Z"
        },
        "id": "76097ee4232fa09e"
      },
      "cell_type": "code",
      "source": [
        "from sklearn.impute import SimpleImputer\n",
        "\n",
        "# Fit and transform the data to fill NaNs\n",
        "# You can change the strategy to 'median', 'most_frequent', or 'constant'\n",
        "bed_imputed = SimpleImputer(strategy='mean').fit_transform(bed_filtered)"
      ],
      "id": "76097ee4232fa09e",
      "outputs": [],
      "execution_count": null
    },
    {
      "metadata": {
        "id": "7389d21b301bdb7b"
      },
      "cell_type": "markdown",
      "source": [
        "Question: Why would we want to impute the missing values before performing the PCA? What does strategy='mean' mean?"
      ],
      "id": "7389d21b301bdb7b"
    },
    {
      "metadata": {
        "ExecuteTime": {
          "end_time": "2024-10-27T11:08:01.457333Z",
          "start_time": "2024-10-27T11:07:59.954948Z"
        },
        "id": "5c939130920eb2c4"
      },
      "cell_type": "code",
      "source": [
        "from sklearn.decomposition import PCA\n",
        "\n",
        "pca = PCA(n_components=2)  # Number of components to keep\n",
        "pca_result = pca.fit_transform(bed_imputed.T)\n",
        "\n",
        "# Get explained variance\n",
        "explained_variance = pca.explained_variance_ratio_ * 100"
      ],
      "id": "5c939130920eb2c4",
      "outputs": [],
      "execution_count": null
    },
    {
      "metadata": {
        "id": "9ebc9f036fb60307"
      },
      "cell_type": "markdown",
      "source": [
        "We can now visualize the principal components in a scatter plots. We focus on the first two principal components, which explain the most variance in the data. We also show the percentage of variance explained by each component on the axes."
      ],
      "id": "9ebc9f036fb60307"
    },
    {
      "metadata": {
        "ExecuteTime": {
          "end_time": "2024-10-27T11:08:31.092608Z",
          "start_time": "2024-10-27T11:08:31.001792Z"
        },
        "id": "7409a8a430c2da8"
      },
      "cell_type": "code",
      "source": [
        "import matplotlib.pyplot as plt\n",
        "\n",
        "# Plot PCA\n",
        "plt.figure(figsize=(10, 6))\n",
        "plt.scatter(pca_result[:, 0], pca_result[:, 1], alpha=0.5)\n",
        "\n",
        "plt.title('PCA of SNP Data')\n",
        "plt.xlabel(f'PC1 ({explained_variance[0]:.2f}% variance explained)')\n",
        "plt.ylabel(f'PC2 ({explained_variance[1]:.2f}% variance explained)')\n",
        "plt.grid()\n",
        "plt.show()"
      ],
      "id": "7409a8a430c2da8",
      "outputs": [],
      "execution_count": null
    },
    {
      "metadata": {
        "id": "a60ba7526db540ba"
      },
      "cell_type": "markdown",
      "source": [
        "Question: What does each point in the scatter plot represent? What do the axes represent? What does the percentage of variance explained by each component mean?"
      ],
      "id": "a60ba7526db540ba"
    },
    {
      "metadata": {
        "id": "7aaf0f4ad92c762e"
      },
      "cell_type": "markdown",
      "source": [
        "Question: How does the explained variance compare to the paper? What could be the reasons for the differences?"
      ],
      "id": "7aaf0f4ad92c762e"
    },
    {
      "metadata": {
        "id": "eb4ba67ce3e56a96"
      },
      "cell_type": "markdown",
      "source": [
        "Question: What evolutionary explanations causes populations structure? and Can you see an overall pattern to the goat populations?"
      ],
      "id": "eb4ba67ce3e56a96"
    },
    {
      "metadata": {
        "id": "e68056ecec300364"
      },
      "cell_type": "markdown",
      "source": [
        "Optional question: How does the population structure of the first two principal components and explained variance change if we apply more stringent missing value filtering or MAF filtering?"
      ],
      "id": "e68056ecec300364"
    },
    {
      "metadata": {
        "id": "7d8e2f393fa5ce6e"
      },
      "cell_type": "markdown",
      "source": [
        "Optional question: How does the PCA change if we only consider mitochondrial and sex chromosome SNPs?"
      ],
      "id": "7d8e2f393fa5ce6e"
    },
    {
      "metadata": {
        "id": "76f619c56711b995"
      },
      "cell_type": "markdown",
      "source": [
        "Optional question: What if we visualize the first vs. the third principal component instead of the first two? Compare with the paper."
      ],
      "id": "76f619c56711b995"
    },
    {
      "metadata": {
        "id": "6fcdfead1c6f4728"
      },
      "cell_type": "markdown",
      "source": [
        "Optional question: Does the PCA change for different imputation strategies?"
      ],
      "id": "6fcdfead1c6f4728"
    },
    {
      "metadata": {
        "id": "64d92a5de13bd9c"
      },
      "cell_type": "markdown",
      "source": [
        "Optional question: What is the minimum number of principal components needed to explain 50% of the total variance?"
      ],
      "id": "64d92a5de13bd9c"
    },
    {
      "metadata": {
        "id": "704263539f9edc58"
      },
      "cell_type": "markdown",
      "source": [
        "Additional information: Because PCAs is such a fast and easy way to gain valuable insights, one should be careful with the interpretations based in PCAs alone: https://www.nature.com/articles/s41598-022-14395-4"
      ],
      "id": "704263539f9edc58"
    }
  ],
  "metadata": {
    "kernelspec": {
      "display_name": "Python 3",
      "language": "python",
      "name": "python3"
    },
    "language_info": {
      "codemirror_mode": {
        "name": "ipython",
        "version": 2
      },
      "file_extension": ".py",
      "mimetype": "text/x-python",
      "name": "python",
      "nbconvert_exporter": "python",
      "pygments_lexer": "ipython2",
      "version": "2.7.6"
    },
    "colab": {
      "provenance": [],
      "include_colab_link": true
    }
  },
  "nbformat": 4,
  "nbformat_minor": 5
}